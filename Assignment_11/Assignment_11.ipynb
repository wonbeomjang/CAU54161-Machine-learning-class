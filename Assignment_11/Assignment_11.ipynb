{
 "cells": [
  {
   "cell_type": "code",
   "execution_count": 1,
   "metadata": {},
   "outputs": [
    {
     "name": "stderr",
     "output_type": "stream",
     "text": [
      "[nltk_data] Downloading package stopwords to\n",
      "[nltk_data]     C:\\Users\\jtige\\AppData\\Roaming\\nltk_data...\n",
      "[nltk_data]   Package stopwords is already up-to-date!\n",
      "[nltk_data] Downloading package wordnet to\n",
      "[nltk_data]     C:\\Users\\jtige\\AppData\\Roaming\\nltk_data...\n",
      "[nltk_data]   Package wordnet is already up-to-date!\n"
     ]
    }
   ],
   "source": [
    "import numpy as np\n",
    "import cupy as cp\n",
    "from tqdm import tqdm\n",
    "import re\n",
    "import nltk\n",
    "from sklearn.datasets import load_files\n",
    "nltk.download('stopwords')\n",
    "nltk.download('wordnet')\n",
    "import pickle\n",
    "from nltk.corpus import stopwords\n",
    "from nltk.stem import WordNetLemmatizer\n",
    "from sklearn.feature_extraction.text import CountVectorizer\n",
    "from sklearn.feature_extraction.text import TfidfTransformer\n",
    "from sklearn.model_selection import train_test_split\n",
    "\n",
    "\n",
    "review_data = load_files('movie_review')\n",
    "X, y = review_data.data, review_data.target\n",
    "\n",
    "documents = []\n",
    "\n",
    "stemmer = WordNetLemmatizer()\n",
    "\n",
    "for sen in range(0, len(X)):\n",
    "    # Remove all the special characters\n",
    "    document = re.sub(r'\\W', ' ', str(X[sen]))\n",
    "    \n",
    "    # remove all single characters\n",
    "    document = re.sub(r'\\s+[a-zA-Z]\\s+', ' ', document)\n",
    "    \n",
    "    # Remove single characters from the start\n",
    "    document = re.sub(r'\\^[a-zA-Z]\\s+', ' ', document) \n",
    "    \n",
    "    # Substituting multiple spaces with single space\n",
    "    document = re.sub(r'\\s+', ' ', document, flags=re.I)\n",
    "    \n",
    "    # Removing prefixed 'b'\n",
    "    document = re.sub(r'^b\\s+', '', document)\n",
    "    \n",
    "    # Converting to Lowercase\n",
    "    document = document.lower()\n",
    "    \n",
    "    # Lemmatization\n",
    "    document = document.split()\n",
    "    document = [stemmer.lemmatize(word) for word in document]\n",
    "    document = ' '.join(document)\n",
    "    \n",
    "    documents.append(document)\n",
    "\n",
    "in_features= 1800\n",
    "\n",
    "vectorizer = CountVectorizer(max_features=in_features, min_df=5, max_df=0.7, stop_words=stopwords.words('english'))\n",
    "X = vectorizer.fit_transform(documents).toarray()\n",
    "\n",
    "tfidfconverter = TfidfTransformer()\n",
    "X = tfidfconverter.fit_transform(X).toarray()\n",
    "\n",
    "train_texts, test_texts, train_labels, test_labels = train_test_split(X, y, test_size=0.3, shuffle=False)\n"
   ]
  },
  {
   "cell_type": "code",
   "execution_count": 2,
   "metadata": {},
   "outputs": [],
   "source": [
    "train_texts, test_texts = cp.asarray(train_texts), cp.asarray(test_texts)\n",
    "train_labels, test_labels = cp.asarray(train_labels), cp.asarray(test_labels)\n",
    "train_labels, test_labels = cp.expand_dims(train_labels, axis=1), cp.expand_dims(test_labels, axis=1)"
   ]
  },
  {
   "cell_type": "code",
   "execution_count": 3,
   "metadata": {},
   "outputs": [],
   "source": [
    "# Define module\n",
    "def sigmoid(x):\n",
    "    return 1 / (1 + cp.exp(-x))\n",
    "\n",
    "\n",
    "class HiddenLayer:\n",
    "    def __init__(self, in_shape, out_shape):\n",
    "        std = cp.sqrt(2 / (in_shape + out_shape))\n",
    "        self.weight = cp.random.normal(0, std, (out_shape, in_shape))\n",
    "        self.bias = cp.random.normal(0, 1e-6, (out_shape, 1))\n",
    "    \n",
    "    def __call__(self, x):\n",
    "        self.input = x\n",
    "        return sigmoid(x @ self.weight.T + self.bias.T)\n",
    "    \n",
    "    def backprop(self, error, lr, weight_decay=0):\n",
    "        batch_size = self.input.shape[0]\n",
    "        \n",
    "        self.weight -= lr * (error.T @ self.input + weight_decay * self.weight) / batch_size\n",
    "        self.bias -= lr * (error.T.sum(axis=1, keepdims=True) + weight_decay * self.bias) / batch_size\n",
    "        \n",
    "        return error @ self.weight * (self.input * (1 - self.input))\n",
    "        \n",
    "    \n",
    "class Sequential:\n",
    "    def __init__(self, module_list):\n",
    "        self.module_list = module_list\n",
    "    \n",
    "    def __call__(self, x):\n",
    "        for layer in self.module_list:\n",
    "            x = layer(x)\n",
    "        return x    \n",
    "    \n",
    "    def backprop(self, pred, label, lr, weight_decay):\n",
    "        error = pred - label\n",
    "        for layer in reversed(self.module_list):\n",
    "            error = layer.backprop(error, lr, weight_decay)\n",
    "        \n",
    "class BinaryCrossEntropy:\n",
    "    labels = 0\n",
    "    preds = 0\n",
    "    def __call__(self, preds, labels):\n",
    "        self.labels = labels\n",
    "        self.preds = preds\n",
    "        \n",
    "        return -(labels * cp.log(preds) + (1 - labels) * cp.log(1 - preds)).mean()\n",
    "    \n",
    "class LearningRateScheduler:\n",
    "    def __init__(self, init_lr, final_step, warm_up_step = 0):\n",
    "        self.init_lr = init_lr\n",
    "        self.final_step = final_step\n",
    "        self.warm_up_step = warm_up_step\n",
    "        self.lr = 0\n",
    "        self._step = 0\n",
    "    \n",
    "    def step(self):\n",
    "        self._step += 1\n",
    "        # Learning rate Warm-up\n",
    "        if (self._step < self.warm_up_step):\n",
    "            self.lr = (self.init_lr / self.warm_up_step) * self._step\n",
    "        # Cos scheduler\n",
    "        else:\n",
    "            self.lr = (cp.cos(cp.pi * ((self._step - self.warm_up_step) / (self.final_step - self.warm_up_step))) + 1) / 2 * self.init_lr\n",
    "        \n",
    "    def get_lr(self):\n",
    "        return self.lr"
   ]
  },
  {
   "cell_type": "code",
   "execution_count": 4,
   "metadata": {},
   "outputs": [],
   "source": [
    "# define computation\n",
    "def compute_acc(preds, labels):\n",
    "    preds = preds >= 0.5\n",
    "    return (preds == labels).sum() / preds.shape[0]"
   ]
  },
  {
   "cell_type": "code",
   "execution_count": 5,
   "metadata": {},
   "outputs": [
    {
     "name": "stdout",
     "output_type": "stream",
     "text": [
      "(1400, 1800)\n",
      "(600, 1800)\n",
      "(1400, 1)\n",
      "(600, 1)\n"
     ]
    }
   ],
   "source": [
    "print(train_texts.shape)\n",
    "print(test_texts.shape)\n",
    "print(train_labels.shape)\n",
    "print(test_labels.shape)"
   ]
  },
  {
   "cell_type": "code",
   "execution_count": 6,
   "metadata": {},
   "outputs": [],
   "source": [
    "# defclare hyterparamter\n",
    "epoch = 170000\n",
    "warm_up_epoch = epoch // 10\n",
    "initial_lr = 1e-2\n",
    "weight_decay = 1e-3\n",
    "\n",
    "num_feature = [400, 100]\n",
    "\n",
    "block = []\n",
    "out_features = 1\n",
    "\n",
    "for nf in num_feature:\n",
    "    block += [HiddenLayer(in_features, nf)]\n",
    "    in_features = nf\n",
    "\n",
    "block += [HiddenLayer(in_features, out_features)]\n",
    "\n",
    "model = Sequential(block)\n",
    "\n",
    "criterion = BinaryCrossEntropy()\n",
    "lr = LearningRateScheduler(initial_lr, epoch, warm_up_epoch)"
   ]
  },
  {
   "cell_type": "code",
   "execution_count": 7,
   "metadata": {},
   "outputs": [
    {
     "name": "stderr",
     "output_type": "stream",
     "text": [
      "100%|████████████████████████████████████████████████████████████████████████| 170000/170000 [1:40:50<00:00, 28.10it/s]\n"
     ]
    }
   ],
   "source": [
    "train_accuracyes = []\n",
    "test_accuracyes = []\n",
    "train_losses = []\n",
    "test_losses = []\n",
    "lrs = []\n",
    "\n",
    "for step in tqdm(range(epoch)):\n",
    "    # predict test label\n",
    "    test_preds = model(test_texts)\n",
    "    test_loss = criterion(test_preds, test_labels)\n",
    "    test_acc = compute_acc(test_preds, test_labels)\n",
    "    \n",
    "    # predict train label\n",
    "    train_preds = model(train_texts)\n",
    "    train_loss = criterion(train_preds, train_labels)\n",
    "    train_acc = compute_acc(train_preds, train_labels)\n",
    "    \n",
    "    # backporpagation\n",
    "    model.backprop(train_preds, train_labels, lr.lr, weight_decay)\n",
    "    \n",
    "    # save results\n",
    "    train_accuracyes += [float(train_acc) * 100]\n",
    "    test_accuracyes += [float(test_acc) * 100]\n",
    "    \n",
    "    train_losses += [train_loss]\n",
    "    test_losses += [test_loss]\n",
    "    lrs += [lr.lr]\n",
    "    \n",
    "    lr.step()\n",
    "\n",
    "train_preds = train_preds >= 0.5\n",
    "test_preds = test_preds >= 0.5"
   ]
  },
  {
   "cell_type": "code",
   "execution_count": 8,
   "metadata": {},
   "outputs": [
    {
     "data": {
      "text/plain": [
       "((600, 1800), (0, 1800))"
      ]
     },
     "execution_count": 8,
     "metadata": {},
     "output_type": "execute_result"
    }
   ],
   "source": [
    "# Split correct answer and worng answer\n",
    "\n",
    "is_correct = cp.argmax(test_preds, axis=1) == cp.argmax(test_labels, axis=1)\n",
    "\n",
    "correct_images = test_texts[is_correct]\n",
    "correct_labels = test_preds[is_correct]\n",
    "\n",
    "worng_images = test_texts[cp.logical_not(is_correct)]\n",
    "worng_labels = test_preds[cp.logical_not(is_correct)]\n",
    "\n",
    "correct_images.shape, worng_images.shape"
   ]
  },
  {
   "cell_type": "markdown",
   "metadata": {},
   "source": [
    "## 1. Plot the loss curve"
   ]
  },
  {
   "cell_type": "code",
   "execution_count": 9,
   "metadata": {},
   "outputs": [
    {
     "name": "stderr",
     "output_type": "stream",
     "text": [
      "c:\\users\\jtige\\appdata\\local\\continuum\\anaconda3\\envs\\cupy37\\lib\\site-packages\\IPython\\core\\pylabtools.py:132: UserWarning: Creating legend with loc=\"best\" can be slow with large amounts of data.\n",
      "  fig.canvas.print_figure(bytes_io, **kw)\n"
     ]
    },
    {
     "data": {
      "image/png": "[encoded data removed]",
      "text/plain": [
       "<Figure size 576x576 with 1 Axes>"
      ]
     },
     "metadata": {
      "needs_background": "light"
     },
     "output_type": "display_data"
    }
   ],
   "source": [
    "import matplotlib.pyplot as plt\n",
    "\n",
    "plt.figure(figsize=(8, 8))\n",
    "plt.plot(train_losses, label='Train', c='b')\n",
    "plt.plot(test_losses, label='Test', c='r')\n",
    "plt.legend()\n",
    "plt.show()"
   ]
  },
  {
   "cell_type": "markdown",
   "metadata": {},
   "source": [
    "## 2. Plot the accuracy curve"
   ]
  },
  {
   "cell_type": "code",
   "execution_count": 10,
   "metadata": {
    "scrolled": false
   },
   "outputs": [
    {
     "name": "stderr",
     "output_type": "stream",
     "text": [
      "c:\\users\\jtige\\appdata\\local\\continuum\\anaconda3\\envs\\cupy37\\lib\\site-packages\\IPython\\core\\pylabtools.py:132: UserWarning: Creating legend with loc=\"best\" can be slow with large amounts of data.\n",
      "  fig.canvas.print_figure(bytes_io, **kw)\n"
     ]
    },
    {
     "data": {
      "image/png": "[encoded data removed]",
      "text/plain": [
       "<Figure size 576x576 with 1 Axes>"
      ]
     },
     "metadata": {
      "needs_background": "light"
     },
     "output_type": "display_data"
    }
   ],
   "source": [
    "plt.figure(figsize=(8, 8))\n",
    "plt.plot(train_accuracyes, label='Train', c='b')\n",
    "plt.plot(test_accuracyes, label='Test', c='r')\n",
    "plt.legend()\n",
    "plt.show()\n"
   ]
  },
  {
   "cell_type": "markdown",
   "metadata": {},
   "source": [
    "## 3. Plot the quantitative results"
   ]
  },
  {
   "cell_type": "code",
   "execution_count": 11,
   "metadata": {},
   "outputs": [
    {
     "name": "stdout",
     "output_type": "stream",
     "text": [
      "[[684  14]\n",
      " [ 11 691]]\n",
      "              precision    recall  f1-score   support\n",
      "\n",
      "           0       1.00      1.00      1.00       698\n",
      "           1       1.00      1.00      1.00       702\n",
      "\n",
      "    accuracy                           1.00      1400\n",
      "   macro avg       1.00      1.00      1.00      1400\n",
      "weighted avg       1.00      1.00      1.00      1400\n",
      "\n",
      "0.9821428571428571\n",
      "\n",
      "\n",
      "[[255  47]\n",
      " [ 51 247]]\n",
      "              precision    recall  f1-score   support\n",
      "\n",
      "           0       0.83      0.84      0.84       302\n",
      "           1       0.84      0.83      0.83       298\n",
      "\n",
      "    accuracy                           0.84       600\n",
      "   macro avg       0.84      0.84      0.84       600\n",
      "weighted avg       0.84      0.84      0.84       600\n",
      "\n",
      "0.8366666666666667\n"
     ]
    }
   ],
   "source": [
    "from sklearn.metrics import classification_report, confusion_matrix, accuracy_score\n",
    "\n",
    "print(confusion_matrix(cp.asnumpy(train_labels), cp.asnumpy(train_preds)))\n",
    "print(classification_report(cp.asnumpy(train_labels), cp.asnumpy(train_labels)))\n",
    "print(accuracy_score(cp.asnumpy(train_labels), cp.asnumpy(train_preds)))\n",
    "print(\"\\n\")\n",
    "print(confusion_matrix(cp.asnumpy(test_labels), cp.asnumpy(test_preds)))\n",
    "print(classification_report(cp.asnumpy(test_labels), cp.asnumpy(test_preds)))\n",
    "print(accuracy_score(cp.asnumpy(test_labels), cp.asnumpy(test_preds)))"
   ]
  },
  {
   "cell_type": "markdown",
   "metadata": {},
   "source": [
    "## 4. Testing accuracy"
   ]
  },
  {
   "cell_type": "code",
   "execution_count": 12,
   "metadata": {},
   "outputs": [
    {
     "name": "stdout",
     "output_type": "stream",
     "text": [
      "Final Test Accuracy: 83.66666666666667%\n"
     ]
    }
   ],
   "source": [
    "print(f'Final Test Accuracy: {test_accuracyes[-1]}%')"
   ]
  },
  {
   "cell_type": "code",
   "execution_count": null,
   "metadata": {},
   "outputs": [],
   "source": []
  }
 ],
 "metadata": {
  "kernelspec": {
   "display_name": "Python 3",
   "language": "python",
   "name": "python3"
  },
  "language_info": {
   "codemirror_mode": {
    "name": "ipython",
    "version": 3
   },
   "file_extension": ".py",
   "mimetype": "text/x-python",
   "name": "python",
   "nbconvert_exporter": "python",
   "pygments_lexer": "ipython3",
   "version": "3.7.7"
  }
 },
 "nbformat": 4,
 "nbformat_minor": 4
}
