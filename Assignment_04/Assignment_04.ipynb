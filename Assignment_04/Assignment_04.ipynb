{
 "cells": [
  {
   "cell_type": "markdown",
   "metadata": {},
   "source": [
    "# Assignment 04\n",
    "\n",
    "## Plotting the input data"
   ]
  },
  {
   "cell_type": "code",
   "execution_count": 1,
   "metadata": {},
   "outputs": [],
   "source": [
    "import csv\n",
    "\n",
    "train_data = []\n",
    "test_data = []\n",
    "\n",
    "with open('data_train.csv', newline='') as myfile:\n",
    "    reader  = csv.reader(myfile, delimiter=',')\n",
    "    for i in reader:\n",
    "        train_data += [list(map(float, i))]\n",
    "        \n",
    "\n",
    "with open('data_test.csv', newline='') as myfile:\n",
    "    reader  = csv.reader(myfile, delimiter=',')\n",
    "    for i in reader:\n",
    "        test_data += [list(map(float, i))]\n"
   ]
  },
  {
   "cell_type": "markdown",
   "metadata": {},
   "source": [
    "load a set of data points $\\{ (x^{(i)}, y^{(i)}, z^{(i)}, h^{(i)}) \\}$ from the given CSV file ('data_train.csv') for training\n",
    "load a set of data points $\\{ (x^{(i)}, y^{(i)}, z^{(i)}, h^{(i)}) \\}$ from the given CSV file ('data_test.csv') for testing"
   ]
  },
  {
   "cell_type": "code",
   "execution_count": 2,
   "metadata": {},
   "outputs": [
    {
     "name": "stdout",
     "output_type": "stream",
     "text": [
      "Requirement already satisfied: tqdm in c:\\users\\jtige\\appdata\\local\\continuum\\anaconda3\\envs\\pytorch37\\lib\\site-packages (4.42.0)\n"
     ]
    },
    {
     "name": "stderr",
     "output_type": "stream",
     "text": [
      "WARNING: pip is being invoked by an old script wrapper. This will fail in a future version of pip.\n",
      "Please see https://github.com/pypa/pip/issues/5599 for advice on fixing the underlying issue.\n",
      "To avoid this problem you can invoke Python with '-m pip' instead of running pip directly.\n"
     ]
    }
   ],
   "source": [
    "!pip install tqdm\n",
    "\n",
    "import numpy as np\n",
    "import matplotlib.pyplot as plt\n",
    "from mpl_toolkits.mplot3d import Axes3D\n",
    "\n",
    "train_data = np.asarray(train_data)\n",
    "test_data = np.asarray(test_data)\n",
    "\n",
    "# split data\n",
    "x_train = train_data[:, 0:3]\n",
    "y_train= train_data[:, 3:4]\n",
    "\n",
    "x_test = test_data[:, 0:3]\n",
    "y_test = test_data[:, 3:4]\n"
   ]
  },
  {
   "cell_type": "markdown",
   "metadata": {},
   "source": [
    "split x, y data where  \n",
    "$x = \\{ (x^{(i)}, y^{(i)}, z^{(i)}) \\}$  \n",
    "$y = \\{ (h^{(i)}) \\}$  "
   ]
  },
  {
   "cell_type": "code",
   "execution_count": 3,
   "metadata": {},
   "outputs": [
    {
     "name": "stderr",
     "output_type": "stream",
     "text": [
      "100%|█████████████████████████████████████████████████████████████████████| 2000000/2000000 [03:11<00:00, 10438.61it/s]\n"
     ]
    }
   ],
   "source": [
    "from tqdm import tqdm\n",
    "\n",
    "# Declare linear model\n",
    "class Linear:\n",
    "    def __init__(self, in_features):\n",
    "        self.weight = np.random.normal(0, 0.01, 3)\n",
    "        self.bias = np.zeros(1)\n",
    "\n",
    "    def __call__(self, x: np.ndarray):\n",
    "        return (self.weight * x).sum(axis=1, keepdims=True) + self.bias\n",
    "    \n",
    "def MSELoss(pred: np.ndarray, label: np.ndarray):\n",
    "    return ((pred - label) ** 2).mean(dtype=np.float64)/2\n",
    "\n",
    "epoch = 2000000\n",
    "learning_rate = 1e-7\n",
    "\n",
    "model = Linear(3)\n",
    "\n",
    "losses = []\n",
    "weights = []\n",
    "biases = []\n",
    "test_losses = []\n",
    "\n",
    "for step in tqdm(range(1, epoch+ 1)):\n",
    "    # MSELoss\n",
    "    loss: np.ndarray = MSELoss(model(x_train), y_train)\n",
    "    test_loss: np.ndarray = MSELoss(model(x_test), y_test)\n",
    "    \n",
    "    # Save losses and parameters\n",
    "    losses += [loss.tolist()]\n",
    "    weights += [model.weight.tolist()]\n",
    "    biases += [model.bias.tolist()]\n",
    "    test_losses += [test_loss.tolist()]\n",
    "    \n",
    "        \n",
    "    # Backpropagation Loss\n",
    "    error = model(x_train) - y_train\n",
    "    \n",
    "    # Gradient Descent Algorithm\n",
    "    temp_bias = model.bias - learning_rate * error.mean()\n",
    "    temp_weight = model.weight - learning_rate * (error * x_train).mean(axis=0)\n",
    "    \n",
    "\n",
    "    \n",
    "    # Update parameter\n",
    "    model.bias = temp_bias\n",
    "    model.weight = temp_weight\n",
    "    \n",
    "\n",
    "    \n",
    "losses = np.asarray(losses)\n",
    "weights = np.asarray(weights)\n",
    "biases = np.asarray(biases)\n",
    "\n"
   ]
  },
  {
   "cell_type": "markdown",
   "metadata": {},
   "source": [
    "### Linear Model\n",
    "$f_\\theta(x, y, z) = \\theta_0 + \\theta_1 x + \\theta_2 y + \\theta_3 z$, where $\\theta = (\\theta_0, \\theta_1, \\theta_2, \\theta_3)$ and $\\theta_0, \\theta_1, \\theta_2, \\theta_3 \\in \\mathbb{R}$  \n",
    "initial parameter is $\\theta_0 = 0$ and $\\theta_1, \\theta_2, \\theta_3$ iid $N(0, 0.01^2)$\n",
    "\n",
    "### Objective function: MSELoss  \n",
    "$J(\\theta_0, \\theta_1, \\theta_2, \\theta_3) = \\frac{1}{2 m} \\sum_{i=1}^m ( \\theta_0 + \\theta_1 x^{(i)} + \\theta_2 y^{(i)} + \\theta_3 z^{(i)} - h^{(i)} )^2$  \n",
    "\n",
    "### Gradient Descent Algorithm  \n",
    "$\\theta_0^{(t+1)} := \\theta_0^{(t)} - \\alpha \\frac{1}{m} \\sum_{i=1}^{m} (f_\\theta(x^{(i)}, y^{(i)}, z^{(i)}) - h^{(i)})$  \n",
    "$\\theta_1^{(t+1)} := \\theta_1^{(t)} - \\alpha \\frac{1}{m} \\sum_{i=1}^{m} (f_\\theta(x^{(i)}, y^{(i)}, z^{(i)}) - h^{(i)}) x^{(i)}$  \n",
    "$\\theta_2^{(t+1)} := \\theta_2^{(t)} - \\alpha \\frac{1}{m} \\sum_{i=1}^{m} (f_\\theta(x^{(i)}, y^{(i)}, z^{(i)}) - h^{(i)}) y^{(i)}$  \n",
    "$\\theta_3^{(t+1)} := \\theta_3^{(t)} - \\alpha \\frac{1}{m} \\sum_{i=1}^{m} (f_\\theta(x^{(i)}, y^{(i)}, z^{(i)}) - h^{(i)}) z^{(i)}$  \n",
    "\n",
    "initial learning rate is 1e-7 and 1000000 epoch"
   ]
  },
  {
   "cell_type": "markdown",
   "metadata": {},
   "source": [
    "## linear regression result"
   ]
  },
  {
   "cell_type": "code",
   "execution_count": 4,
   "metadata": {},
   "outputs": [
    {
     "data": {
      "image/png": "[encoded data removed]",
      "text/plain": [
       "<Figure size 432x288 with 1 Axes>"
      ]
     },
     "metadata": {
      "needs_background": "light"
     },
     "output_type": "display_data"
    }
   ],
   "source": [
    "plt.plot(biases, color='black')\n",
    "plt.plot(weights[:, 0], color='red')\n",
    "plt.plot(weights[:, 1], color='green')\n",
    "plt.plot(weights[:, 2], color='blue')\n",
    "plt.xlabel('Step')\n",
    "plt.ylabel('Value')\n",
    "plt.show()"
   ]
  },
  {
   "cell_type": "code",
   "execution_count": null,
   "metadata": {},
   "outputs": [],
   "source": []
  }
 ],
 "metadata": {
  "kernelspec": {
   "display_name": "Python 3",
   "language": "python",
   "name": "python3"
  },
  "language_info": {
   "codemirror_mode": {
    "name": "ipython",
    "version": 3
   },
   "file_extension": ".py",
   "mimetype": "text/x-python",
   "name": "python",
   "nbconvert_exporter": "python",
   "pygments_lexer": "ipython3",
   "version": "3.7.6"
  }
 },
 "nbformat": 4,
 "nbformat_minor": 4
}
