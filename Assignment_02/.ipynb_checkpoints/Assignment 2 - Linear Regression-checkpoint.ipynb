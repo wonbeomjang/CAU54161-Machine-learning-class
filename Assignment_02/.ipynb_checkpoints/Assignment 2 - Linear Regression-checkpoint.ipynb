{
 "cells": [
  {
   "cell_type": "code",
   "execution_count": 1,
   "metadata": {},
   "outputs": [
    {
     "name": "stdout",
     "output_type": "stream",
     "text": [
      "Requirement already satisfied: tqdm in c:\\users\\jtige\\appdata\\local\\continuum\\anaconda3\\envs\\pytorch37\\lib\\site-packages (4.42.0)\n"
     ]
    },
    {
     "name": "stderr",
     "output_type": "stream",
     "text": [
      "WARNING: pip is being invoked by an old script wrapper. This will fail in a future version of pip.\n",
      "Please see https://github.com/pypa/pip/issues/5599 for advice on fixing the underlying issue.\n",
      "To avoid this problem you can invoke Python with '-m pip' instead of running pip directly.\n"
     ]
    }
   ],
   "source": [
    "!pip install tqdm\n",
    "\n",
    "import matplotlib.pyplot as plt\n",
    "import numpy as np\n",
    "\n",
    "from tqdm import tqdm"
   ]
  },
  {
   "cell_type": "markdown",
   "metadata": {},
   "source": [
    "# Machine Learning Assignment 2\n",
    "## Make model and train data"
   ]
  },
  {
   "cell_type": "code",
   "execution_count": 2,
   "metadata": {},
   "outputs": [],
   "source": [
    "num_points = 100\n",
    "\n",
    "theta_0 = np.random.uniform(0, 10, 1)\n",
    "theta_1 = np.random.uniform(5, 10, 1)\n",
    "\n",
    "x: np.ndarray = np.random.uniform(0, 10, num_points)\n",
    "y: np.ndarray = theta_0 + theta_1 * x + np.random.normal(0, 5, num_points)"
   ]
  },
  {
   "cell_type": "markdown",
   "metadata": {},
   "source": [
    "generate $ m $ point pairs $ \\{ (x^{(i)}, y^{(i)}) \\}_{i = 1}^m $  \n",
    "generate x values using uniform distribution and make y by following formula\n",
    "\n",
    "$ y = \\theta_0 + \\theta_1 * x  + N(0, \\sigma^2)$  \n",
    "\n",
    "where $\\sigma=5, x \\backsim U(0, 10), \\theta_0 \\backsim U(0, 10), \\theta_1 \\backsim U(5, 10)$"
   ]
  },
  {
   "cell_type": "markdown",
   "metadata": {},
   "source": [
    "## Plotting the input data"
   ]
  },
  {
   "cell_type": "code",
   "execution_count": 3,
   "metadata": {},
   "outputs": [
    {
     "data": {
      "image/png": "[encoded data removed]",
      "text/plain": [
       "<Figure size 432x288 with 1 Axes>"
      ]
     },
     "metadata": {
      "needs_background": "light"
     },
     "output_type": "display_data"
    }
   ],
   "source": [
    "plt.plot([0, 10], theta_0 + theta_1 * [0, 10], 'b-')\n",
    "plt.plot(x, y, 'ro', color='black')\n",
    "plt.ylabel('Y')\n",
    "plt.xlabel('X')\n",
    "plt.show()"
   ]
  },
  {
   "cell_type": "markdown",
   "metadata": {},
   "source": [
    "## Train Model"
   ]
  },
  {
   "cell_type": "code",
   "execution_count": 4,
   "metadata": {},
   "outputs": [
    {
     "name": "stderr",
     "output_type": "stream",
     "text": [
      "100%|████████████████████████████████████████████████████████████████████████████████████████████████████████| 5000/5000 [00:00<00:00, 31932.22it/s]\n"
     ]
    }
   ],
   "source": [
    "class Linear:\n",
    "    r'''Linear model for linear regression'''\n",
    "    weight = np.random.normal(0, 0.01, 1)\n",
    "    bias = np.zeros(1)\n",
    "\n",
    "    def __call__(self, x: np.ndarray):\n",
    "        return self.weight * x + self.bias\n",
    "    \n",
    "def MSELoss(pred: np.ndarray, label: np.ndarray):\n",
    "    return ((pred - y) ** 2).mean() / 2\n",
    "\n",
    "epoch = 5000\n",
    "learning_rate = 5e-3\n",
    "\n",
    "model = Linear()\n",
    "\n",
    "losses = []\n",
    "weights = []\n",
    "biases = []\n",
    "\n",
    "\n",
    "for step in tqdm(range(1, epoch+ 1)):\n",
    "    # MSELoss\n",
    "    loss: np.ndarray = MSELoss(model(x), y)\n",
    "        \n",
    "    losses += [loss.item()]\n",
    "    weights += [model.weight.item()]\n",
    "    biases += [model.bias.item()]\n",
    "        \n",
    "    # Backpropagation Loss\n",
    "    d_bias = (model(x) - y).mean()\n",
    "    d_weight = ((model(x) - y) * x).mean()\n",
    "    \n",
    "    # Gradient Descent Algorithm\n",
    "    temp_bias = model.bias - learning_rate * d_bias\n",
    "    temp_weight = model.weight - learning_rate * d_weight\n",
    "    \n",
    "    # Update parameter\n",
    "    model.bias = temp_bias\n",
    "    model.weight = temp_weight\n",
    "    \n",
    "    if step % 3000 == 0:\n",
    "        learning_rate = learning_rate / 2\n"
   ]
  },
  {
   "cell_type": "markdown",
   "metadata": {},
   "source": [
    "### Linear Model\n",
    "$ y = \\theta_0 + \\theta_1 * x$  \n",
    "initial parameter is $\\theta_0 = 0, \\theta_1 \\backsim N(0, 0.01^2)$\n",
    "\n",
    "### Objective function: MSELoss  \n",
    "$ J(\\theta) = \\frac{1}{2 m} \\sum_{i=1}^m (h_\\theta(x^{(i)}) - y^{(i)})^2 $  \n",
    "\n",
    "### Gradient Descent Algorithm  \n",
    "$ \\theta_0^{(t+1)} := \\theta_0^{(t)} - \\alpha \\frac{1}{m} \\sum_{i=1}^{m} (h_\\theta(x^{(i)}) - y^{(i)}) $  \n",
    "$ \\theta_1^{(t+1)} := \\theta_1^{(t)} - \\alpha \\frac{1}{m} \\sum_{i=1}^{m} (h_\\theta(x^{(i)}) - y^{(i)}) x^{(i)} $\n",
    "\n",
    "initial learning rate is 5e-3 and decay by 0.5 every 3000 epoch"
   ]
  },
  {
   "cell_type": "markdown",
   "metadata": {},
   "source": [
    "## Plotting the output results"
   ]
  },
  {
   "cell_type": "code",
   "execution_count": 5,
   "metadata": {},
   "outputs": [
    {
     "data": {
      "image/png": "[encoded data removed]",
      "text/plain": [
       "<Figure size 432x288 with 1 Axes>"
      ]
     },
     "metadata": {
      "needs_background": "light"
     },
     "output_type": "display_data"
    }
   ],
   "source": [
    "plt.plot([0, 10], model.bias + model.weight * [0, 10], 'r')\n",
    "plt.plot(x, y, 'ro', color='black')\n",
    "plt.ylabel('Y')\n",
    "plt.xlabel('X')\n",
    "plt.show()"
   ]
  },
  {
   "cell_type": "markdown",
   "metadata": {},
   "source": [
    "## Plotting the energy values"
   ]
  },
  {
   "cell_type": "code",
   "execution_count": 6,
   "metadata": {},
   "outputs": [
    {
     "data": {
      "image/png": "[encoded data removed]",
      "text/plain": [
       "<Figure size 432x288 with 1 Axes>"
      ]
     },
     "metadata": {
      "needs_background": "light"
     },
     "output_type": "display_data"
    }
   ],
   "source": [
    "plt.plot(losses, 'b-')\n",
    "plt.ylabel('log')\n",
    "plt.xlabel('Step')\n",
    "plt.show()"
   ]
  },
  {
   "cell_type": "markdown",
   "metadata": {},
   "source": [
    "## Plotting the model parameters"
   ]
  },
  {
   "cell_type": "code",
   "execution_count": 7,
   "metadata": {},
   "outputs": [
    {
     "data": {
      "image/png": "[encoded data removed]",
      "text/plain": [
       "<Figure size 432x288 with 1 Axes>"
      ]
     },
     "metadata": {
      "needs_background": "light"
     },
     "output_type": "display_data"
    }
   ],
   "source": [
    "\n",
    "bias_plot = plt.plot(biases, 'r')\n",
    "weight_plot = plt.plot(weights, 'b')\n",
    "plt.xlabel('Step')\n",
    "plt.xlabel('Value')\n",
    "plt.legend((bias_plot[0], weight_plot[0]), ('θ_0', 'θ_1'))\n",
    "\n",
    "plt.show()"
   ]
  }
 ],
 "metadata": {
  "kernelspec": {
   "display_name": "Python 3",
   "language": "python",
   "name": "python3"
  },
  "language_info": {
   "codemirror_mode": {
    "name": "ipython",
    "version": 3
   },
   "file_extension": ".py",
   "mimetype": "text/x-python",
   "name": "python",
   "nbconvert_exporter": "python",
   "pygments_lexer": "ipython3",
   "version": "3.7.6"
  }
 },
 "nbformat": 4,
 "nbformat_minor": 4
}
