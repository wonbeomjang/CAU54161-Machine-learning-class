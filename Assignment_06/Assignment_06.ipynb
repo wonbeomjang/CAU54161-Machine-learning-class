{
 "cells": [
  {
   "cell_type": "code",
   "execution_count": 1,
   "metadata": {},
   "outputs": [],
   "source": [
    "import numpy as np\n",
    "import matplotlib.pyplot as plt\n",
    "\n",
    "data    = np.genfromtxt(\"data-nonlinear.txt\", delimiter=',')\n",
    "\n",
    "class Model:\n",
    "    def __init__(self):\n",
    "        self.weight = np.zeros(16)\n",
    "        self.bias = np.zeros(1)\n",
    "        \n",
    "    def __call__(self, x: np.ndarray):\n",
    "        x = (self.weight * x).sum(axis=1, keepdims=True) + self.bias\n",
    "        x = 1 / (1 + np.exp(-x)) \n",
    "        return x\n",
    "\n",
    "def BCELoss(pred: np.ndarray, label: np.ndarray):\n",
    "    return -(label * np.log(pred) + (1 - label) * np.log(1 - pred)).mean(dtype=np.float64)"
   ]
  },
  {
   "cell_type": "code",
   "execution_count": 2,
   "metadata": {},
   "outputs": [
    {
     "data": {
      "text/plain": [
       "(118, 16)"
      ]
     },
     "execution_count": 2,
     "metadata": {},
     "output_type": "execute_result"
    }
   ],
   "source": [
    "x_train = data[:, 0:2]\n",
    "y_train = data[:, 2:3]\n",
    "\n",
    "transformed_data = x_train\n",
    "for i in range(2, 7):\n",
    "    transformed_data = np.concatenate((transformed_data, x_train ** i), axis=1)\n",
    "\n",
    "    \n",
    "for i in range(2):\n",
    "    for j in range(2):\n",
    "        transformed_data = np.concatenate((transformed_data, x_train[:, 0:1] ** i * x_train[:, 1:2] ** j), axis=1)\n",
    "\n",
    "transformed_data.shape"
   ]
  },
  {
   "cell_type": "code",
   "execution_count": null,
   "metadata": {},
   "outputs": [],
   "source": [
    "from tqdm import tqdm\n",
    "\n",
    "learning_rate = 0.01\n",
    "\n",
    "model = Model()\n",
    "\n",
    "losses = []\n",
    "accuracys = []\n",
    "weights = []\n",
    "biases = []\n",
    "epoch = 1000000\n",
    "e = 1e-20\n",
    "\n",
    "for step in tqdm(range(epoch)):\n",
    "    # BCELoss\n",
    "    loss: np.ndarray = BCELoss(model(transformed_data), y_train)\n",
    "    preds = model(transformed_data) > 0.5\n",
    "    acc = (preds == y_train).sum() / y_train.shape[0]\n",
    "    \n",
    "    # Save losses and parameters\n",
    "    losses += [loss.tolist()]\n",
    "    weights += [model.weight.tolist()]\n",
    "    biases += [model.bias.tolist()]\n",
    "    accuracys += [acc.item()]\n",
    "    \n",
    "    # Compute Error\n",
    "    error = model(transformed_data) - y_train\n",
    "    \n",
    "    # Gradient Descent Algorithm\n",
    "    temp_bias = model.bias - learning_rate * error.mean()\n",
    "    temp_weight = model.weight - learning_rate * (error * transformed_data).mean(axis=0)\n",
    "    \n",
    "    # Update parameter\n",
    "    model.bias = temp_bias\n",
    "    model.weight = temp_weight\n",
    "\n",
    "losses = np.asarray(losses)\n",
    "weights = np.asarray(weights)\n",
    "biases = np.asarray(biases)\n",
    "\n",
    "print(f'Train step is {step}')\n",
    "print(f'The optimal linear model is {model}')\n",
    "print(f'Train loss: {loss:.4f}')\n",
    "print(f'Train accuracy: {acc * 100:f}')"
   ]
  }
 ],
 "metadata": {
  "kernelspec": {
   "display_name": "Python 3",
   "language": "python",
   "name": "python3"
  },
  "language_info": {
   "codemirror_mode": {
    "name": "ipython",
    "version": 3
   },
   "file_extension": ".py",
   "mimetype": "text/x-python",
   "name": "python",
   "nbconvert_exporter": "python",
   "pygments_lexer": "ipython3",
   "version": "3.7.4"
  }
 },
 "nbformat": 4,
 "nbformat_minor": 2
}
