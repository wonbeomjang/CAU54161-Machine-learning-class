{
 "cells": [
  {
   "cell_type": "code",
   "execution_count": 1,
   "metadata": {},
   "outputs": [],
   "source": [
    "import numpy as np\n",
    "import matplotlib.pyplot as plt\n",
    "\n",
    "data    = np.genfromtxt(\"data-nonlinear.txt\", delimiter=',')\n",
    "\n",
    "class Model:\n",
    "    def __init__(self):\n",
    "        self.weight = np.zeros(16)\n",
    "        self.bias = np.zeros(1)\n",
    "        \n",
    "    def __call__(self, x: np.ndarray):\n",
    "        x = (self.weight * x).sum(axis=1, keepdims=True) + self.bias\n",
    "        x = 1 / (1 + np.exp(-x)) \n",
    "        return x\n",
    "    \n",
    "    def __str__(self):\n",
    "        return f'{self.weight}'\n",
    "\n",
    "def BCELoss(pred: np.ndarray, label: np.ndarray):\n",
    "    return -(label * np.log(pred) + (1 - label) * np.log(1 - pred)).mean(dtype=np.float64)\n",
    "\n",
    "class LearningRate:\n",
    "    def __init__(self, lr=1e-2, step=0):\n",
    "        self._lr = lr\n",
    "        self._step = step\n",
    "    \n",
    "    def item(self):\n",
    "        return self._lr\n",
    "    \n",
    "    def step(self):\n",
    "        self._step += 1"
   ]
  },
  {
   "cell_type": "code",
   "execution_count": 2,
   "metadata": {},
   "outputs": [
    {
     "data": {
      "text/plain": [
       "(118, 16)"
      ]
     },
     "execution_count": 2,
     "metadata": {},
     "output_type": "execute_result"
    }
   ],
   "source": [
    "x_train = data[:, 0:2]\n",
    "y_train = data[:, 2:3]\n",
    "\n",
    "transformed_data = x_train\n",
    "for i in range(2, 7):\n",
    "    transformed_data = np.concatenate((transformed_data, x_train ** i), axis=1)\n",
    "\n",
    "    \n",
    "for i in range(2):\n",
    "    for j in range(2):\n",
    "        transformed_data = np.concatenate((transformed_data, x_train[:, 0:1] ** i * x_train[:, 1:2] ** j), axis=1)\n",
    "\n",
    "transformed_data.shape"
   ]
  },
  {
   "cell_type": "code",
   "execution_count": 3,
   "metadata": {},
   "outputs": [
    {
     "name": "stderr",
     "output_type": "stream",
     "text": [
      "100%|█████████████████████████████████████████████████████████████████████| 1000000/1000000 [01:38<00:00, 10203.76it/s]\n"
     ]
    },
    {
     "name": "stdout",
     "output_type": "stream",
     "text": [
      "Train step is 999999\n",
      "The optimal linear model is [ 1.07657559  2.64073672 -7.14631673 -9.01447444  4.21472792 -4.75185505\n",
      " -5.21239149 -4.85765229 -1.07801898  3.51357301 -6.35122887  2.56330186\n",
      "  2.25897411  2.64073672  1.07657559 -7.15366541]\n",
      "Train loss: 0.3311\n",
      "Train accuracy: 86.440678\n"
     ]
    }
   ],
   "source": [
    "from tqdm import tqdm\n",
    "\n",
    "learning_rate = LearningRate()\n",
    "\n",
    "model = Model()\n",
    "\n",
    "losses = []\n",
    "accuracys = []\n",
    "weights = []\n",
    "biases = []\n",
    "epoch = 1000000\n",
    "e = 1e-20\n",
    "\n",
    "for step in tqdm(range(epoch)):\n",
    "    # BCELoss\n",
    "    loss: np.ndarray = BCELoss(model(transformed_data), y_train)\n",
    "    preds = model(transformed_data) > 0.5\n",
    "    acc = (preds == y_train).sum() / y_train.shape[0]\n",
    "    \n",
    "    # Save losses and parameters\n",
    "    losses += [loss.tolist()]\n",
    "    weights += [model.weight.tolist()]\n",
    "    biases += [model.bias.tolist()]\n",
    "    accuracys += [acc.item()]\n",
    "    \n",
    "    # Compute Error\n",
    "    error = model(transformed_data) - y_train\n",
    "    \n",
    "    # Gradient Descent Algorithm\n",
    "    temp_bias = model.bias - learning_rate.item() * error.mean()\n",
    "    temp_weight = model.weight - learning_rate.item() * (error * transformed_data).mean(axis=0)\n",
    "    \n",
    "    # Update parameter\n",
    "    model.bias = temp_bias\n",
    "    model.weight = temp_weight\n",
    "\n",
    "losses = np.asarray(losses)\n",
    "weights = np.asarray(weights)\n",
    "biases = np.asarray(biases)\n",
    "\n",
    "print(f'Train step is {step}')\n",
    "print(f'The optimal linear model is {model}')\n",
    "print(f'Train loss: {loss:.4f}')\n",
    "print(f'Train accuracy: {acc * 100:f}')"
   ]
  },
  {
   "cell_type": "code",
   "execution_count": 4,
   "metadata": {},
   "outputs": [
    {
     "data": {
      "image/png": "[encoded data removed]",
      "text/plain": [
       "<Figure size 1152x360 with 1 Axes>"
      ]
     },
     "metadata": {
      "needs_background": "light"
     },
     "output_type": "display_data"
    }
   ],
   "source": [
    "plt.figure(figsize=(16, 5))\n",
    "plt.plot(losses, c='b')\n",
    "plt.ylabel('loss')\n",
    "plt.xlabel('Step')\n",
    "plt.show()"
   ]
  },
  {
   "cell_type": "code",
   "execution_count": 5,
   "metadata": {},
   "outputs": [
    {
     "data": {
      "image/png": "[encoded data removed]",
      "text/plain": [
       "<Figure size 1152x360 with 1 Axes>"
      ]
     },
     "metadata": {
      "needs_background": "light"
     },
     "output_type": "display_data"
    }
   ],
   "source": [
    "plt.figure(figsize=(16, 5))\n",
    "plt.plot(accuracys, c='r')\n",
    "plt.ylabel('Accurracy')\n",
    "plt.xlabel('Step')\n",
    "plt.show()"
   ]
  },
  {
   "cell_type": "code",
   "execution_count": null,
   "metadata": {},
   "outputs": [],
   "source": []
  }
 ],
 "metadata": {
  "kernelspec": {
   "display_name": "Python 3",
   "language": "python",
   "name": "python3"
  },
  "language_info": {
   "codemirror_mode": {
    "name": "ipython",
    "version": 3
   },
   "file_extension": ".py",
   "mimetype": "text/x-python",
   "name": "python",
   "nbconvert_exporter": "python",
   "pygments_lexer": "ipython3",
   "version": "3.7.4"
  }
 },
 "nbformat": 4,
 "nbformat_minor": 2
}
