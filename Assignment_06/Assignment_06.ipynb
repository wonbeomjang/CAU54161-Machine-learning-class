{
 "cells": [
  {
   "cell_type": "code",
   "execution_count": 1,
   "metadata": {},
   "outputs": [],
   "source": [
    "import numpy as np\n",
    "import matplotlib.pyplot as plt\n",
    "\n",
    "data    = np.genfromtxt(\"data-nonlinear.txt\", delimiter=',')\n",
    "\n",
    "class Model:\n",
    "    def __init__(self):\n",
    "        self.weight = np.zeros(16)\n",
    "        self.bias = np.zeros(1)\n",
    "        \n",
    "    def __call__(self, x: np.ndarray):\n",
    "        x = (self.weight * x).sum(axis=1, keepdims=True) + self.bias\n",
    "        x = 1 / (1 + np.exp(-x)) \n",
    "        return x\n",
    "\n",
    "def BCELoss(pred: np.ndarray, label: np.ndarray):\n",
    "    return -(label * np.log(pred) + (1 - label) * np.log(1 - pred)).mean(dtype=np.float64)"
   ]
  },
  {
   "cell_type": "code",
   "execution_count": 2,
   "metadata": {},
   "outputs": [
    {
     "data": {
      "text/plain": [
       "(118, 16)"
      ]
     },
     "execution_count": 2,
     "metadata": {},
     "output_type": "execute_result"
    }
   ],
   "source": [
    "x_train = data[:, 0:2]\n",
    "y_train = data[:, 2:3]\n",
    "\n",
    "transformed_data = x_train\n",
    "for i in range(2, 7):\n",
    "    transformed_data = np.concatenate((transformed_data, x_train ** i), axis=1)\n",
    "\n",
    "    \n",
    "for i in range(2):\n",
    "    for j in range(2):\n",
    "        transformed_data = np.concatenate((transformed_data, x_train[:, 0:1] ** i * x_train[:, 1:2] ** j), axis=1)\n",
    "\n",
    "transformed_data.shape"
   ]
  },
  {
   "cell_type": "code",
   "execution_count": null,
   "metadata": {},
   "outputs": [],
   "source": []
  }
 ],
 "metadata": {
  "kernelspec": {
   "display_name": "Python 3",
   "language": "python",
   "name": "python3"
  },
  "language_info": {
   "codemirror_mode": {
    "name": "ipython",
    "version": 3
   },
   "file_extension": ".py",
   "mimetype": "text/x-python",
   "name": "python",
   "nbconvert_exporter": "python",
   "pygments_lexer": "ipython3",
   "version": "3.7.4"
  }
 },
 "nbformat": 4,
 "nbformat_minor": 2
}
