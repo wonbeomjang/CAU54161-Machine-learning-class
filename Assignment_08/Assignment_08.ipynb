{
 "cells": [
  {
   "cell_type": "markdown",
   "metadata": {},
   "source": [
    "# Assignment_08"
   ]
  },
  {
   "cell_type": "code",
   "execution_count": 9,
   "metadata": {},
   "outputs": [],
   "source": [
    "import matplotlib.pyplot as plt\n",
    "import numpy as np\n",
    "\n",
    "file_data   = \"mnist_test.csv\"\n",
    "handle_file = open(file_data, \"r\")\n",
    "data        = handle_file.readlines()\n",
    "handle_file.close()\n",
    "\n",
    "size_row    = 28    # height of the image\n",
    "size_col    = 28    # width of the image\n",
    "\n",
    "num_image   = len(data)\n",
    "\n",
    "#\n",
    "# make a matrix each column of which represents an images in a vector form \n",
    "#\n",
    "images  = np.empty((num_image, size_row, size_col), dtype=float)\n",
    "labels  = np.empty(num_image, dtype=int)\n",
    "\n",
    "for count, line in enumerate(data):\n",
    "\n",
    "    line_data   = line.split(',')\n",
    "    label       = line_data[0]\n",
    "    im_vector   = np.asfarray(line_data[1:])\n",
    "\n",
    "    labels[count]       = label\n",
    "    images[count, :, :]    = im_vector.reshape((size_row, size_col))   "
   ]
  },
  {
   "cell_type": "code",
   "execution_count": 10,
   "metadata": {},
   "outputs": [],
   "source": [
    "class Linear:\n",
    "    def __init__(self, in_shapes, out_shapes):\n",
    "        self.weight = np.random.normal(0, 1, (in_shapes, out_shapes))\n",
    "    \n",
    "    def __call__(self, x):\n",
    "        return self.weight.T @ x\n",
    "\n",
    "class Sigmoid:\n",
    "    def __call__(self, x):\n",
    "        return 1 / (1 +np.exp(-x))\n",
    "    \n",
    "class Sequential:\n",
    "    def __init__(self, modules: list):\n",
    "        self.module_list = modules\n",
    "    \n",
    "    def __call__(self, x):\n",
    "        for layer in self.module_list:\n",
    "            x = layer(x)\n",
    "            \n",
    "        return x"
   ]
  },
  {
   "cell_type": "code",
   "execution_count": 11,
   "metadata": {},
   "outputs": [],
   "source": [
    "model = Sequential([\n",
    "    Linear(size_row * size_col, 1),\n",
    "    Sigmoid()\n",
    "])"
   ]
  },
  {
   "cell_type": "code",
   "execution_count": 12,
   "metadata": {},
   "outputs": [],
   "source": [
    "preds  = np.empty(num_image, dtype=float)\n",
    "avg_preds  = np.empty(10, dtype=float)\n",
    "\n",
    "for i, image in enumerate(images):\n",
    "    preds[i] = model(image.reshape(size_row * size_col, 1))\n",
    "\n",
    "for i in range(10):\n",
    "    avg_preds[i] = preds[labels == i].mean()"
   ]
  },
  {
   "cell_type": "code",
   "execution_count": null,
   "metadata": {},
   "outputs": [],
   "source": []
  }
 ],
 "metadata": {
  "kernelspec": {
   "display_name": "Python 3",
   "language": "python",
   "name": "python3"
  },
  "language_info": {
   "codemirror_mode": {
    "name": "ipython",
    "version": 3
   },
   "file_extension": ".py",
   "mimetype": "text/x-python",
   "name": "python",
   "nbconvert_exporter": "python",
   "pygments_lexer": "ipython3",
   "version": "3.7.4"
  }
 },
 "nbformat": 4,
 "nbformat_minor": 2
}
