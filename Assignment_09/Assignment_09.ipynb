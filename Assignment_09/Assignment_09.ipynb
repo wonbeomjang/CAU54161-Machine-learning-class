{
 "cells": [
  {
   "cell_type": "code",
   "execution_count": 1,
   "metadata": {},
   "outputs": [
    {
     "name": "stdout",
     "output_type": "stream",
     "text": [
      "(6000, 784)\n"
     ]
    }
   ],
   "source": [
    "import matplotlib.pyplot as plt\n",
    "import cupy as cp\n",
    "from tqdm import tqdm\n",
    "\n",
    "file_data   = \"mnist.csv\"\n",
    "handle_file = open(file_data, \"r\")\n",
    "data        = handle_file.readlines()\n",
    "handle_file.close()\n",
    "\n",
    "size_row    = 28    # height of the image\n",
    "size_col    = 28    # width of the image\n",
    "\n",
    "num_image   = len(data)\n",
    "num_classes = 10\n",
    "\n",
    "#\n",
    "# make a matrix each column of which represents an images in a vector form \n",
    "#\n",
    "images  = cp.empty((num_image, size_row * size_col), dtype=float)\n",
    "labels  = cp.empty(num_image, dtype=int)\n",
    "\n",
    "for cnt, line in enumerate(data):\n",
    "\n",
    "    line_data   = line.split(',')\n",
    "    label       = int(line_data[0])\n",
    "    im_vector   = cp.array(list(map(int, line_data[1:])))\n",
    "\n",
    "    labels[cnt]    = label\n",
    "    images[cnt]    = im_vector\n",
    "\n",
    "# one-hot\n",
    "labels = cp.eye(num_classes)[labels]\n",
    "images = images / 255\n",
    "    \n",
    "# Split Data\n",
    "train_images = images[:6000]\n",
    "train_labels = labels[:6000]\n",
    "test_images = images[6000:]\n",
    "test_labels = labels[:6000]\n",
    "\n",
    "print(train_images.shape)\n"
   ]
  },
  {
   "cell_type": "code",
   "execution_count": 2,
   "metadata": {},
   "outputs": [],
   "source": [
    "# Define module\n",
    "\n",
    "def sigmoid(x):\n",
    "    return 1 / (1 + cp.exp(-x))\n",
    "\n",
    "class Model:\n",
    "    def __init__(self, in_shapes, out_shapes):\n",
    "        std = 1\n",
    "        self.weight_1 = cp.random.normal(0, std, (196, in_shapes))\n",
    "        self.weight_2 = cp.random.normal(0, std, (49, 196))\n",
    "        self.weight_3 = cp.random.normal(0, std, (out_shapes, 49))\n",
    "        \n",
    "        self.node_1 = 0\n",
    "        self.node_2 = 0\n",
    "        self.node_3 = 0\n",
    "        self.node_4 = 0\n",
    "    \n",
    "    def __call__(self, x):\n",
    "        x = x.T\n",
    "        batch = x.shape[-1]\n",
    "        \n",
    "        self.node_1 = x\n",
    "        x = sigmoid(self.weight_1 @ x)\n",
    "        \n",
    "        self.node_2 = x\n",
    "        x = sigmoid(self.weight_2 @ x)\n",
    "        \n",
    "        \n",
    "        self.node_3 = x\n",
    "        x = sigmoid(self.weight_3 @ x)\n",
    "        \n",
    "        self.node_4 = x\n",
    "        return x.T\n",
    "    \n",
    "    def backprop(self, preds, labels, lr):\n",
    "        batch_size = preds.shape[0]\n",
    "        preds, label = preds.T, labels.T\n",
    "        \n",
    "        error_4 = preds - label\n",
    "        error_3 = self.weight_3.T @ error_4 * (self.node_3 * (1 - self.node_3))\n",
    "        error_2 = self.weight_2.T @ error_3 * (self.node_2 * (1 - self.node_2))\n",
    "        \n",
    "        self.weight_3 -= lr * error_4 @ self.node_3.T / batch_size\n",
    "        self.weight_2 -= lr * error_3 @ self.node_2.T / batch_size\n",
    "        self.weight_1 -= lr * error_2 @ self.node_1.T / batch_size\n",
    "        \n",
    "\n",
    "        \n",
    "class BinaryCrossEntropy:\n",
    "    labels = 0\n",
    "    preds = 0\n",
    "    def __call__(self, preds, labels):\n",
    "        self.labels = labels\n",
    "        self.preds = preds\n",
    "        \n",
    "        return -(labels * cp.log(preds) + (1 - labels) * cp.log(1 - preds)).mean()\n",
    "    \n",
    "class LearningRateScheduler:\n",
    "    def __init__(self, init_lr, final_step, warm_up_step = 0):\n",
    "        self.init_lr = init_lr\n",
    "        self.final_step = final_step\n",
    "        self.warm_up_step = warm_up_step\n",
    "        self.lr = 0\n",
    "        self._step = 0\n",
    "    \n",
    "    def step(self):\n",
    "        self._step += 1\n",
    "        if (step < self.warm_up_step):\n",
    "            self.lr = (self.init_lr / self.warm_up_step) * self._step\n",
    "        else:\n",
    "            self.lr = (cp.cos(cp.pi * ((self._step - self.warm_up_step) / (self.final_step - self.warm_up_step))) + 1) / 2 * self.init_lr\n",
    "        \n",
    "    def get_lr(self):\n",
    "        return self.lr"
   ]
  },
  {
   "cell_type": "code",
   "execution_count": 3,
   "metadata": {},
   "outputs": [],
   "source": [
    "def compute_acc(preds, labels):\n",
    "    pred_nums = cp.argmax(preds, axis=1)\n",
    "    lable_nums = cp.argmax(labels, axis=1)\n",
    "    num_correct = (pred_nums == lable_nums).sum()\n",
    "    return (pred_nums == lable_nums).sum() / preds.shape[0]"
   ]
  },
  {
   "cell_type": "code",
   "execution_count": 4,
   "metadata": {},
   "outputs": [],
   "source": [
    "epoch = 100000\n",
    "warm_up_epoch = epoch // 10\n",
    "initial_lr = 20\n",
    "\n",
    "model = Model(784, 10)\n",
    "\n",
    "criterion = BinaryCrossEntropy()\n",
    "lr = LearningRateScheduler(initial_lr, epoch, warm_up_epoch)"
   ]
  },
  {
   "cell_type": "code",
   "execution_count": 5,
   "metadata": {},
   "outputs": [
    {
     "name": "stdout",
     "output_type": "stream",
     "text": [
      "(6000, 10)\n"
     ]
    }
   ],
   "source": [
    "preds = model(train_images)\n",
    "model.backprop(preds, train_labels, 0.01)\n",
    "print(preds.shape)\n",
    "loss = criterion(preds, train_labels)"
   ]
  },
  {
   "cell_type": "code",
   "execution_count": 6,
   "metadata": {},
   "outputs": [
    {
     "name": "stderr",
     "output_type": "stream",
     "text": [
      "100%|██████████████████████████████████████████████████████████████████████████| 100000/100000 [39:26<00:00, 42.25it/s]\n"
     ]
    }
   ],
   "source": [
    "accuracyes = []\n",
    "losses = []\n",
    "lrs = []\n",
    "\n",
    "for step in tqdm(range(epoch)):\n",
    "    preds = model(train_images)\n",
    "    loss = criterion(preds, train_labels)\n",
    "    acc = compute_acc(preds, train_labels)\n",
    "    \n",
    "    model.backprop(preds, train_labels, lr.lr)\n",
    "    \n",
    "    accuracyes += [acc]\n",
    "    losses += [loss]\n",
    "    lrs += [lr.lr]\n",
    "    \n",
    "    lr.step()"
   ]
  },
  {
   "cell_type": "code",
   "execution_count": 7,
   "metadata": {},
   "outputs": [
    {
     "data": {
      "image/png": "[encoded data removed]",
      "text/plain": [
       "<Figure size 576x576 with 1 Axes>"
      ]
     },
     "metadata": {
      "needs_background": "light"
     },
     "output_type": "display_data"
    }
   ],
   "source": [
    "plt.figure(figsize=(8, 8))\n",
    "plt.plot(accuracyes)\n",
    "plt.text(1000, 1, f'{accuracyes[-1]}')\n",
    "plt.show()"
   ]
  },
  {
   "cell_type": "code",
   "execution_count": 8,
   "metadata": {
    "scrolled": false
   },
   "outputs": [
    {
     "data": {
      "image/png": "[encoded data removed]",
      "text/plain": [
       "<Figure size 576x576 with 1 Axes>"
      ]
     },
     "metadata": {
      "needs_background": "light"
     },
     "output_type": "display_data"
    }
   ],
   "source": [
    "plt.figure(figsize=(8, 8))\n",
    "plt.plot(losses)\n",
    "plt.show()"
   ]
  },
  {
   "cell_type": "code",
   "execution_count": 9,
   "metadata": {},
   "outputs": [
    {
     "data": {
      "image/png": "[encoded data removed]",
      "text/plain": [
       "<Figure size 576x576 with 1 Axes>"
      ]
     },
     "metadata": {
      "needs_background": "light"
     },
     "output_type": "display_data"
    }
   ],
   "source": [
    "plt.figure(figsize=(8, 8))\n",
    "plt.plot(lrs)\n",
    "plt.show()"
   ]
  }
 ],
 "metadata": {
  "kernelspec": {
   "display_name": "Python 3",
   "language": "python",
   "name": "python3"
  },
  "language_info": {
   "codemirror_mode": {
    "name": "ipython",
    "version": 3
   },
   "file_extension": ".py",
   "mimetype": "text/x-python",
   "name": "python",
   "nbconvert_exporter": "python",
   "pygments_lexer": "ipython3",
   "version": "3.7.7"
  }
 },
 "nbformat": 4,
 "nbformat_minor": 4
}
