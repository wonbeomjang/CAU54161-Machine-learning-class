{
 "cells": [
  {
   "cell_type": "markdown",
   "metadata": {},
   "source": [
    "# Assignment 05\n",
    "\n",
    "## Plot the training data"
   ]
  },
  {
   "cell_type": "code",
   "execution_count": 1,
   "metadata": {},
   "outputs": [
    {
     "name": "stderr",
     "output_type": "stream",
     "text": [
      "WARNING: pip is being invoked by an old script wrapper. This will fail in a future version of pip.\n",
      "Please see https://github.com/pypa/pip/issues/5599 for advice on fixing the underlying issue.\n",
      "To avoid this problem you can invoke Python with '-m pip' instead of running pip directly.\n"
     ]
    },
    {
     "name": "stdout",
     "output_type": "stream",
     "text": [
      "Requirement already satisfied: tqdm in c:\\users\\jtige\\appdata\\local\\continuum\\anaconda3\\envs\\pytorch37\\lib\\site-packages (4.42.0)\n"
     ]
    },
    {
     "data": {
      "image/png": "[encoded data removed]",
      "text/plain": [
       "<Figure size 576x576 with 1 Axes>"
      ]
     },
     "metadata": {
      "needs_background": "light"
     },
     "output_type": "display_data"
    }
   ],
   "source": [
    "!pip install tqdm\n",
    "import numpy as np\n",
    "import matplotlib.pyplot as plt\n",
    "from tqdm import tqdm\n",
    "from mpl_toolkits.mplot3d import Axes3D\n",
    "\n",
    "\n",
    "data = np.genfromtxt(\"data.txt\", delimiter=',')\n",
    "\n",
    "x = data[:, 0]\n",
    "y = data[:, 1]\n",
    "label = data[:, 2]\n",
    "\n",
    "x_label0 = x[label == 0]\n",
    "x_label1 = x[label == 1]\n",
    "\n",
    "y_label0 = y[label == 0]\n",
    "y_label1 = y[label == 1]\n",
    "\n",
    "plt.figure(figsize=(8, 8))\n",
    "plt.scatter(x_label0, y_label0, alpha=0.3, c='b', label='0')\n",
    "plt.scatter(x_label1, y_label1, alpha=0.3, c='r', label='1')\n",
    "plt.legend()\n",
    "plt.show()\n",
    "\n",
    "x_train = (data[:, :2] - 65) / 70\n",
    "y_train = data[:, 2:]\n"
   ]
  },
  {
   "cell_type": "markdown",
   "metadata": {},
   "source": [
    "load the training data file ('data.txt')\n",
    "$ x, y \\in \\mathbb{R}$ and $l \\in \\{0, 1\\} $\n",
    "\n",
    "Input data bave value between 30, 100  \n",
    "We did feature scaling to have values between -0.5 and 0.5.  \n",
    "$ x := (x - 65) / 70 $  \n",
    "$ y := (y - 65) / 70 $ "
   ]
  },
  {
   "cell_type": "code",
   "execution_count": 2,
   "metadata": {},
   "outputs": [],
   "source": [
    "# Declare linear model\n",
    "\n",
    "class BinaryClassification:\n",
    "    def __init__(self):\n",
    "        self.weight = np.random.normal(0, 0.01, 2)\n",
    "        self.bias = np.zeros(1)\n",
    "\n",
    "    def __call__(self, x: np.ndarray):\n",
    "        x = (self.weight * x).sum(axis=1, keepdims=True) + self.bias\n",
    "        x = 1 / (1 + np.exp(-x)) \n",
    "        return x\n",
    "    \n",
    "    def __str__(self):\n",
    "        return f'f(x,y)=sigmoid({self.bias[0]:.6f} + {self.weight[0]:.6f}x + {self.weight[1]:.6f}y)'  \n",
    "\n",
    "def BCELoss(pred: np.ndarray, label: np.ndarray):\n",
    "    return -(label * np.log(pred) + (1 - label) * np.log(1 - pred)).mean(dtype=np.float64)"
   ]
  },
  {
   "cell_type": "markdown",
   "metadata": {},
   "source": [
    "### Model\n",
    "$f_\\theta(x, y) = \\theta_0 + \\theta_1 x + \\theta_2 y $, where $\\theta = (\\theta_0, \\theta_1, \\theta_2)$ and $\\theta_0, \\theta_1, \\theta_2 \\in \\mathbb{R}$  \n",
    "initial parameter is $\\theta_0 = 0$ and $\\theta_1, \\theta_2$ iid $N(0, 0.01^2)$"
   ]
  },
  {
   "cell_type": "code",
   "execution_count": 3,
   "metadata": {},
   "outputs": [
    {
     "name": "stdout",
     "output_type": "stream",
     "text": [
      "Train step is 2305\n",
      "The optimal linear model is f(x,y)=sigmoid(1.337450 + 14.415074x + 14.081546y)\n",
      "Train loss: 0.2035\n"
     ]
    }
   ],
   "source": [
    "learning_rate = 5\n",
    "\n",
    "model = BinaryClassification()\n",
    "\n",
    "losses = []\n",
    "weights = []\n",
    "biases = []\n",
    "step = 0\n",
    "e = 1e-9\n",
    "\n",
    "while(step < 2 or losses[-2] - losses[-1] > e):\n",
    "    # BCELoss\n",
    "    loss: np.ndarray = BCELoss(model(x_train), y_train)  \n",
    "    \n",
    "    # Save losses and parameters\n",
    "    losses += [loss.tolist()]\n",
    "    weights += [model.weight.tolist()]\n",
    "    biases += [model.bias.tolist()]\n",
    "    \n",
    "    # Compute Error\n",
    "    error = model(x_train) - y_train\n",
    "    \n",
    "    # Gradient Descent Algorithm\n",
    "    temp_bias = model.bias - learning_rate * error.mean()\n",
    "    temp_weight = model.weight - learning_rate * (error * x_train).mean(axis=0)\n",
    "    \n",
    "    # Update parameter\n",
    "    model.bias = temp_bias\n",
    "    model.weight = temp_weight\n",
    "    step += 1\n",
    "\n",
    "losses = np.asarray(losses)\n",
    "weights = np.asarray(weights)\n",
    "biases = np.asarray(biases)\n",
    "\n",
    "print(f'Train step is {step}')\n",
    "print(f'The optimal linear model is {model}')\n",
    "print(f'Train loss: {loss:.4f}')"
   ]
  },
  {
   "cell_type": "markdown",
   "metadata": {},
   "source": [
    "### Objective function: MSELoss  \n",
    "$J(\\theta_0, \\theta_1, \\theta_2) = \\frac{1}{m} \\sum_{i=1}^m ( - l^{(i)} \\log(\\sigma(z^{(i)})) - (1 - l^{(i)}) \\log(1 - \\sigma(z^{(i)}))  )$  \n",
    "\n",
    "### Gradient Descent Algorithm  \n",
    "$\\theta_0^{(t+1)} := \\theta_0^{(t)} - \\alpha \\frac{1}{m} \\sum_{i=1}^{m} (\\sigma(z^{(i)}) - l^{(i)})$  \n",
    "$\\theta_1^{(t+1)} := \\theta_1^{(t)} - \\alpha \\frac{1}{m} \\sum_{i=1}^{m} (\\sigma(z^{(i)}) - l^{(i)}) x^{(i)}$  \n",
    "$\\theta_2^{(t+1)} := \\theta_2^{(t)} - \\alpha \\frac{1}{m} \\sum_{i=1}^{m} (\\sigma(z^{(i)}) - l^{(i)}) y^{(i)}$  \n",
    "\n",
    "initial learning rate is 5 and train is Training continues until the loss change is less than 1e-10"
   ]
  },
  {
   "cell_type": "markdown",
   "metadata": {},
   "source": [
    "## Plot the estimated parameters"
   ]
  },
  {
   "cell_type": "code",
   "execution_count": 4,
   "metadata": {},
   "outputs": [
    {
     "data": {
      "image/png": "[encoded data removed]",
      "text/plain": [
       "<Figure size 1152x360 with 1 Axes>"
      ]
     },
     "metadata": {
      "needs_background": "light"
     },
     "output_type": "display_data"
    }
   ],
   "source": [
    "plt.figure(figsize=(16, 5))\n",
    "plt.plot(biases, color='red')\n",
    "plt.plot(weights[:, 0], color='green')\n",
    "plt.plot(weights[:, 1], color='blue')\n",
    "\n",
    "plt.xlabel('Step')\n",
    "plt.ylabel('Value')\n",
    "plt.show()"
   ]
  },
  {
   "cell_type": "markdown",
   "metadata": {},
   "source": [
    "# Plot the training error"
   ]
  },
  {
   "cell_type": "code",
   "execution_count": 5,
   "metadata": {},
   "outputs": [
    {
     "data": {
      "image/png": "[encoded data removed]",
      "text/plain": [
       "<Figure size 1152x360 with 1 Axes>"
      ]
     },
     "metadata": {
      "needs_background": "light"
     },
     "output_type": "display_data"
    }
   ],
   "source": [
    "plt.figure(figsize=(16, 5))\n",
    "plt.plot(losses, 'b-')\n",
    "plt.ylabel('loss')\n",
    "plt.xlabel('Step')\n",
    "plt.text(0.87*len(losses), losses[-1] * 1.1, f'Loss: {losses[-1]:5f}', size=15)\n",
    "plt.show()"
   ]
  },
  {
   "cell_type": "code",
   "execution_count": null,
   "metadata": {},
   "outputs": [],
   "source": []
  }
 ],
 "metadata": {
  "kernelspec": {
   "display_name": "Python 3",
   "language": "python",
   "name": "python3"
  },
  "language_info": {
   "codemirror_mode": {
    "name": "ipython",
    "version": 3
   },
   "file_extension": ".py",
   "mimetype": "text/x-python",
   "name": "python",
   "nbconvert_exporter": "python",
   "pygments_lexer": "ipython3",
   "version": "3.7.6"
  }
 },
 "nbformat": 4,
 "nbformat_minor": 4
}
