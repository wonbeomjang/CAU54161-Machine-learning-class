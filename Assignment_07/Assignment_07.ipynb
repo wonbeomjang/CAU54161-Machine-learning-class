{
 "cells": [
  {
   "cell_type": "code",
   "execution_count": 1,
   "metadata": {},
   "outputs": [],
   "source": [
    "import numpy as np\n",
    "import numpy.random\n",
    "import matplotlib.pyplot as plt\n",
    "\n",
    "class Model:\n",
    "    def __init__(self):\n",
    "        self.weight = np.zeros(100)\n",
    "        \n",
    "    def __call__(self, x: np.ndarray):\n",
    "        x = (self.weight * x).sum(axis=1, keepdims=True)\n",
    "        x = 1 / (1 + np.exp(-x)) \n",
    "        return x\n",
    "    \n",
    "    def __str__(self):\n",
    "        return f'{self.weight}'\n",
    "\n",
    "def BCELoss(pred: np.ndarray, label: np.ndarray):\n",
    "    return -(label * np.log(pred) + (1 - label) * np.log(1 - pred)).mean(dtype=np.float64)"
   ]
  },
  {
   "cell_type": "code",
   "execution_count": null,
   "metadata": {},
   "outputs": [],
   "source": [
    "def preprocess_data(data):\n",
    "    r'''\n",
    "    compute input data of model base on g(x, y; \\theta)\n",
    "    '''\n",
    "    transformed_data = data\n",
    "    for i in range(10):\n",
    "        for j in range(10):\n",
    "            transformed_data = np.concatenate((transformed_data, data[:, 0:1] ** i * data[:, 1:2] ** j), axis=1)\n",
    "    return transformed_data[:, 2:]\n",
    "\n",
    "\n",
    "data = np.genfromtxt(\"data-nonlinear.txt\", delimiter=',')\n",
    "y_train = data[:, 2:3]\n",
    "transformed_data = preprocess_data(data[:, 0:2])\n",
    "transformed_data.shape"
   ]
  }
 ],
 "metadata": {
  "kernelspec": {
   "display_name": "Python 3",
   "language": "python",
   "name": "python3"
  },
  "language_info": {
   "codemirror_mode": {
    "name": "ipython",
    "version": 3
   },
   "file_extension": ".py",
   "mimetype": "text/x-python",
   "name": "python",
   "nbconvert_exporter": "python",
   "pygments_lexer": "ipython3",
   "version": "3.7.4"
  }
 },
 "nbformat": 4,
 "nbformat_minor": 2
}
