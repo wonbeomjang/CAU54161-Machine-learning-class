{
 "cells": [
  {
   "cell_type": "code",
   "execution_count": 1,
   "metadata": {},
   "outputs": [],
   "source": [
    "import numpy as np\n",
    "import numpy.random\n",
    "import matplotlib.pyplot as plt\n",
    "\n",
    "class Model:\n",
    "    def __init__(self):\n",
    "        self.weight = np.zeros(100)\n",
    "        \n",
    "    def __call__(self, x: np.ndarray):\n",
    "        x = (self.weight * x).sum(axis=1, keepdims=True)\n",
    "        x = 1 / (1 + np.exp(-x)) \n",
    "        return x\n",
    "    \n",
    "    def __str__(self):\n",
    "        return f'{self.weight}'\n",
    "\n",
    "def BCELoss(pred: np.ndarray, label: np.ndarray):\n",
    "    return -(label * np.log(pred) + (1 - label) * np.log(1 - pred)).mean(dtype=np.float64)"
   ]
  },
  {
   "cell_type": "code",
   "execution_count": 2,
   "metadata": {},
   "outputs": [
    {
     "data": {
      "text/plain": [
       "(118, 100)"
      ]
     },
     "execution_count": 2,
     "metadata": {},
     "output_type": "execute_result"
    }
   ],
   "source": [
    "def preprocess_data(data):\n",
    "    r'''\n",
    "    compute input data of model base on g(x, y; \\theta)\n",
    "    '''\n",
    "    transformed_data = data\n",
    "    for i in range(10):\n",
    "        for j in range(10):\n",
    "            transformed_data = np.concatenate((transformed_data, data[:, 0:1] ** i * data[:, 1:2] ** j), axis=1)\n",
    "    return transformed_data[:, 2:]\n",
    "\n",
    "\n",
    "data = np.genfromtxt(\"data-nonlinear.txt\", delimiter=',')\n",
    "y_train = data[:, 2:3]\n",
    "transformed_data = preprocess_data(data[:, 0:2])\n",
    "transformed_data.shape"
   ]
  },
  {
   "cell_type": "code",
   "execution_count": 3,
   "metadata": {},
   "outputs": [
    {
     "name": "stderr",
     "output_type": "stream",
     "text": [
      "100%|██████████| 20000/20000 [00:03<00:00, 5687.14it/s]\n",
      "100%|██████████| 20000/20000 [00:03<00:00, 5954.47it/s]\n",
      "100%|██████████| 20000/20000 [00:03<00:00, 5899.63it/s]\n"
     ]
    }
   ],
   "source": [
    "from tqdm import tqdm\n",
    "\n",
    "epoch = 20000\n",
    "max_acc = 0\n",
    "\n",
    "losses = []\n",
    "accuracys = []\n",
    "weights = []\n",
    "\n",
    "losse = []\n",
    "accuracy = []\n",
    "\n",
    "learning_rate = 5\n",
    "weight_decay = [1e-6, 1e-3, 1e-1]\n",
    "model = Model()\n",
    "\n",
    "for i in range(3):\n",
    "    loss = []\n",
    "    accuracy = []\n",
    "    for step in tqdm(range(epoch)):\n",
    "        # BCELoss\n",
    "        criterion: np.ndarray = BCELoss(model(transformed_data), y_train) + weight_decay[i] * (model.weight ** 2).mean() / 2\n",
    "        preds = model(transformed_data) > 0.5\n",
    "        acc = (preds == y_train).sum() / y_train.shape[0]\n",
    "        max_acc = max(acc.item(), max_acc)\n",
    "\n",
    "        # Save losses and parameters\n",
    "        loss += [criterion.tolist()]\n",
    "        accuracy += [acc.item()]\n",
    "\n",
    "        # Compute Error\n",
    "        error = model(transformed_data) - y_train\n",
    "\n",
    "        # Gradient Descent Algorithm\n",
    "        temp_weight = (1 - learning_rate * weight_decay[i]) * model.weight - learning_rate * (error * transformed_data).mean(axis=0)\n",
    "\n",
    "        # Update parameter\n",
    "        model.weight = temp_weight\n",
    "    losses += [loss]\n",
    "    accuracys += [accuracy]\n",
    "    weights += [model.weight]"
   ]
  },
  {
   "cell_type": "code",
   "execution_count": 4,
   "metadata": {},
   "outputs": [],
   "source": [
    "data    = np.genfromtxt(\"data-nonlinear.txt\", delimiter=',')\n",
    "pointX  = data[:, 0]\n",
    "pointY  = data[:, 1]\n",
    "label   = data[:, 2]\n",
    "\n",
    "pointX0 = pointX[label == 0]\n",
    "pointY0 = pointY[label == 0]\n",
    "\n",
    "pointX1 = pointX[label == 1]\n",
    "pointY1 = pointY[label == 1]"
   ]
  },
  {
   "cell_type": "markdown",
   "metadata": {},
   "source": [
    "## 1. Training Data"
   ]
  },
  {
   "cell_type": "code",
   "execution_count": 9,
   "metadata": {},
   "outputs": [
    {
     "data": {
      "image/png": "[encoded data removed]",
      "text/plain": [
       "<Figure size 576x576 with 1 Axes>"
      ]
     },
     "metadata": {
      "needs_background": "light"
     },
     "output_type": "display_data"
    }
   ],
   "source": [
    "plt.figure(figsize=(8, 8))\n",
    "plt.scatter(pointX0, pointY0, c='b', label='0')\n",
    "plt.scatter(pointX1, pointY1, c='r', label='1')\n",
    "plt.legend()\n",
    "plt.show()"
   ]
  },
  {
   "cell_type": "code",
   "execution_count": null,
   "metadata": {},
   "outputs": [],
   "source": []
  }
 ],
 "metadata": {
  "kernelspec": {
   "display_name": "Python 3",
   "language": "python",
   "name": "python3"
  },
  "language_info": {
   "codemirror_mode": {
    "name": "ipython",
    "version": 3
   },
   "file_extension": ".py",
   "mimetype": "text/x-python",
   "name": "python",
   "nbconvert_exporter": "python",
   "pygments_lexer": "ipython3",
   "version": "3.7.4"
  }
 },
 "nbformat": 4,
 "nbformat_minor": 2
}
